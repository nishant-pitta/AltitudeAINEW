{
  "nbformat": 4,
  "nbformat_minor": 0,
  "metadata": {
    "colab": {
      "provenance": []
    },
    "kernelspec": {
      "name": "python3",
      "display_name": "Python 3"
    },
    "language_info": {
      "name": "python"
    }
  },
  "cells": [
    {
      "cell_type": "code",
      "execution_count": 1,
      "metadata": {
        "id": "Uqwa0QmZpF6q",
        "colab": {
          "base_uri": "https://localhost:8080/"
        },
        "outputId": "067dfbbd-9db0-4711-bd9f-5e13137e83d3"
      },
      "outputs": [
        {
          "output_type": "stream",
          "name": "stdout",
          "text": [
            "Requirement already satisfied: scikit-learn==1.4.1.post1 in /usr/local/lib/python3.10/dist-packages (1.4.1.post1)\n",
            "Requirement already satisfied: numpy<2.0,>=1.19.5 in /usr/local/lib/python3.10/dist-packages (from scikit-learn==1.4.1.post1) (1.25.2)\n",
            "Requirement already satisfied: scipy>=1.6.0 in /usr/local/lib/python3.10/dist-packages (from scikit-learn==1.4.1.post1) (1.11.4)\n",
            "Requirement already satisfied: joblib>=1.2.0 in /usr/local/lib/python3.10/dist-packages (from scikit-learn==1.4.1.post1) (1.3.2)\n",
            "Requirement already satisfied: threadpoolctl>=2.0.0 in /usr/local/lib/python3.10/dist-packages (from scikit-learn==1.4.1.post1) (3.3.0)\n"
          ]
        }
      ],
      "source": [
        "import pandas as pd\n",
        "from sklearn.model_selection import train_test_split, GridSearchCV\n",
        "from sklearn.neighbors import KNeighborsClassifier\n",
        "from sklearn.preprocessing import StandardScaler, OneHotEncoder\n",
        "from sklearn.impute import SimpleImputer\n",
        "from sklearn.compose import ColumnTransformer\n",
        "from sklearn.pipeline import Pipeline\n",
        "from sklearn.metrics import classification_report, accuracy_score\n",
        "import numpy as np\n",
        "from sklearn.neighbors import KNeighborsRegressor\n",
        "!pip install scikit-learn==1.4.1.post1\n",
        "\n",
        "\n",
        "import matplotlib.pyplot as plt\n",
        "from sklearn.metrics import roc_curve, roc_auc_score, confusion_matrix\n",
        "import seaborn as sns"
      ]
    },
    {
      "cell_type": "code",
      "source": [
        "!mkdir AltStuff\n",
        "\n",
        "#add data set"
      ],
      "metadata": {
        "id": "MR_l0OaipYMT"
      },
      "execution_count": 2,
      "outputs": []
    },
    {
      "cell_type": "code",
      "source": [
        "# Load the dataset\n",
        "file_path = 'AltStuff/altitude_sickness_circulation.csv'\n",
        "data = pd.read_csv(file_path)"
      ],
      "metadata": {
        "id": "XVUlQCHhpPjc"
      },
      "execution_count": 185,
      "outputs": []
    },
    {
      "cell_type": "code",
      "source": [
        "#Dataset w eeg features\n",
        "new_data = pd.read_csv('AltStuff/MEFAR_MID.csv')"
      ],
      "metadata": {
        "id": "MIrr8oY43Zrv"
      },
      "execution_count": 186,
      "outputs": []
    },
    {
      "cell_type": "code",
      "source": [
        "new_data.columns.tolist()"
      ],
      "metadata": {
        "colab": {
          "base_uri": "https://localhost:8080/"
        },
        "id": "gwyQeMvGFje7",
        "outputId": "9e89e6d5-f7d9-47f5-fb82-6890ab3c19dd"
      },
      "execution_count": 5,
      "outputs": [
        {
          "output_type": "execute_result",
          "data": {
            "text/plain": [
              "['BVP',\n",
              " 'EDA',\n",
              " 'TEMP',\n",
              " 'AccX',\n",
              " 'AccY',\n",
              " 'AccZ',\n",
              " 'HR',\n",
              " ' Delta',\n",
              " ' Theta',\n",
              " ' Alpha1',\n",
              " ' Alpha2',\n",
              " ' Beta1',\n",
              " ' Beta2',\n",
              " ' Gamma1',\n",
              " ' Gamma2',\n",
              " ' Attention',\n",
              " ' Meditation',\n",
              " 'class']"
            ]
          },
          "metadata": {},
          "execution_count": 5
        }
      ]
    },
    {
      "cell_type": "code",
      "source": [
        "def match_records(data, new_data):\n",
        "    matches = []\n",
        "\n",
        "    for index, row in data.iterrows():\n",
        "        # Count the number of symptoms greater than 1\n",
        "        symptom_count = sum(row[feature] > 1 for feature in ['sym_headache', 'sym_gi', 'sym_fatigue', 'sym_dizziness'])\n",
        "\n",
        "        # Determine the class condition based on the symptom count\n",
        "        class_condition = 1 if symptom_count >= 2 else 0\n",
        "\n",
        "        # Find matches where class matches the determined condition\n",
        "        matching_indices = new_data['class'] == class_condition\n",
        "        closest_matches = new_data[matching_indices]\n",
        "\n",
        "        if not closest_matches.empty:\n",
        "            # Randomly select a match if multiple matches are found\n",
        "            closest_match_index = closest_matches.sample(1).index[0]\n",
        "            matches.append((index, closest_match_index))\n",
        "        else:\n",
        "            # Print a message if no match is found\n",
        "            print(f\"No match found for data index {index} with class condition {class_condition}\")\n",
        "\n",
        "    return matches\n",
        "\n",
        "# Assuming data and new_data are your DataFrame variables\n",
        "matches = match_records(data, new_data)\n",
        "print(\"Number of matches found:\", len(matches))\n"
      ],
      "metadata": {
        "colab": {
          "base_uri": "https://localhost:8080/"
        },
        "id": "TdoZqBDr4foZ",
        "outputId": "19b3ad14-fc38-438e-a958-94df0db04733"
      },
      "execution_count": 187,
      "outputs": [
        {
          "output_type": "stream",
          "name": "stdout",
          "text": [
            "Number of matches found: 188\n"
          ]
        }
      ]
    },
    {
      "cell_type": "code",
      "source": [
        "# Trim leading/trailing spaces from the column names\n",
        "new_data.columns = new_data.columns.str.strip()\n",
        "\n",
        "# Now perform the match and data addition\n",
        "for index, new_data_index in matches:\n",
        "    try:\n",
        "        # Make sure the column names here match the actual column names after stripping\n",
        "        new_features = new_data.loc[new_data_index, ['BVP', 'EDA', 'TEMP',\n",
        "                                                     'AccX', 'AccY', 'AccZ',\n",
        "                                                     'Delta', 'Theta', 'Alpha1', 'Alpha2',\n",
        "                                                     'Beta1', 'Beta2', 'Gamma1', 'Gamma2',\n",
        "                                                     'Attention', 'Meditation', 'class']]\n",
        "        data.loc[index, new_features.index] = new_features.values\n",
        "        print(f\"Features from new_data index {new_data_index} added to data index {index}.\")\n",
        "    except KeyError as e:\n",
        "        print(f\"Warning: Missing feature(s) {e} for index {new_data_index} in new_data\")\n"
      ],
      "metadata": {
        "colab": {
          "base_uri": "https://localhost:8080/"
        },
        "id": "YU-NNePHM8bd",
        "outputId": "7362741a-651a-4343-a9fc-0ea07d57aa81"
      },
      "execution_count": 188,
      "outputs": [
        {
          "output_type": "stream",
          "name": "stdout",
          "text": [
            "Features from new_data index 820771 added to data index 0.\n",
            "Features from new_data index 555634 added to data index 1.\n",
            "Features from new_data index 163226 added to data index 2.\n",
            "Features from new_data index 289060 added to data index 3.\n",
            "Features from new_data index 527728 added to data index 4.\n",
            "Features from new_data index 19749 added to data index 5.\n",
            "Features from new_data index 634022 added to data index 6.\n",
            "Features from new_data index 841123 added to data index 7.\n",
            "Features from new_data index 103709 added to data index 8.\n",
            "Features from new_data index 111976 added to data index 9.\n",
            "Features from new_data index 727860 added to data index 10.\n",
            "Features from new_data index 897866 added to data index 11.\n",
            "Features from new_data index 866104 added to data index 12.\n",
            "Features from new_data index 882437 added to data index 13.\n",
            "Features from new_data index 96347 added to data index 14.\n",
            "Features from new_data index 443578 added to data index 15.\n",
            "Features from new_data index 305177 added to data index 16.\n",
            "Features from new_data index 400051 added to data index 17.\n",
            "Features from new_data index 192485 added to data index 18.\n",
            "Features from new_data index 367627 added to data index 19.\n",
            "Features from new_data index 828220 added to data index 20.\n",
            "Features from new_data index 414206 added to data index 21.\n",
            "Features from new_data index 348266 added to data index 22.\n",
            "Features from new_data index 245966 added to data index 23.\n",
            "Features from new_data index 38258 added to data index 24.\n",
            "Features from new_data index 903669 added to data index 25.\n",
            "Features from new_data index 390529 added to data index 26.\n",
            "Features from new_data index 55722 added to data index 27.\n",
            "Features from new_data index 227393 added to data index 28.\n",
            "Features from new_data index 834507 added to data index 29.\n",
            "Features from new_data index 53263 added to data index 30.\n",
            "Features from new_data index 303804 added to data index 31.\n",
            "Features from new_data index 459450 added to data index 32.\n",
            "Features from new_data index 879861 added to data index 33.\n",
            "Features from new_data index 659102 added to data index 34.\n",
            "Features from new_data index 115302 added to data index 35.\n",
            "Features from new_data index 638638 added to data index 36.\n",
            "Features from new_data index 497115 added to data index 37.\n",
            "Features from new_data index 520326 added to data index 38.\n",
            "Features from new_data index 75632 added to data index 39.\n",
            "Features from new_data index 697866 added to data index 40.\n",
            "Features from new_data index 96526 added to data index 41.\n",
            "Features from new_data index 606190 added to data index 42.\n",
            "Features from new_data index 830118 added to data index 43.\n",
            "Features from new_data index 192466 added to data index 44.\n",
            "Features from new_data index 713637 added to data index 45.\n",
            "Features from new_data index 294673 added to data index 46.\n",
            "Features from new_data index 631680 added to data index 47.\n",
            "Features from new_data index 896042 added to data index 48.\n",
            "Features from new_data index 460020 added to data index 49.\n",
            "Features from new_data index 129033 added to data index 50.\n",
            "Features from new_data index 678169 added to data index 51.\n",
            "Features from new_data index 425572 added to data index 52.\n",
            "Features from new_data index 93787 added to data index 53.\n",
            "Features from new_data index 61544 added to data index 54.\n",
            "Features from new_data index 47739 added to data index 55.\n",
            "Features from new_data index 652233 added to data index 56.\n",
            "Features from new_data index 353718 added to data index 57.\n",
            "Features from new_data index 425732 added to data index 58.\n",
            "Features from new_data index 708815 added to data index 59.\n",
            "Features from new_data index 570467 added to data index 60.\n",
            "Features from new_data index 111985 added to data index 61.\n",
            "Features from new_data index 867041 added to data index 62.\n",
            "Features from new_data index 86045 added to data index 63.\n",
            "Features from new_data index 408118 added to data index 64.\n",
            "Features from new_data index 555882 added to data index 65.\n",
            "Features from new_data index 340255 added to data index 66.\n",
            "Features from new_data index 598801 added to data index 67.\n",
            "Features from new_data index 163293 added to data index 68.\n",
            "Features from new_data index 916457 added to data index 69.\n",
            "Features from new_data index 281556 added to data index 70.\n",
            "Features from new_data index 357149 added to data index 71.\n",
            "Features from new_data index 687306 added to data index 72.\n",
            "Features from new_data index 57472 added to data index 73.\n",
            "Features from new_data index 738193 added to data index 74.\n",
            "Features from new_data index 549015 added to data index 75.\n",
            "Features from new_data index 408504 added to data index 76.\n",
            "Features from new_data index 748879 added to data index 77.\n",
            "Features from new_data index 603480 added to data index 78.\n",
            "Features from new_data index 366963 added to data index 79.\n",
            "Features from new_data index 531207 added to data index 80.\n",
            "Features from new_data index 255478 added to data index 81.\n",
            "Features from new_data index 694476 added to data index 82.\n",
            "Features from new_data index 550220 added to data index 83.\n",
            "Features from new_data index 421173 added to data index 84.\n",
            "Features from new_data index 61427 added to data index 85.\n",
            "Features from new_data index 134777 added to data index 86.\n",
            "Features from new_data index 778010 added to data index 87.\n",
            "Features from new_data index 675360 added to data index 88.\n",
            "Features from new_data index 67008 added to data index 89.\n",
            "Features from new_data index 645552 added to data index 90.\n",
            "Features from new_data index 467260 added to data index 91.\n",
            "Features from new_data index 302020 added to data index 92.\n",
            "Features from new_data index 919673 added to data index 93.\n",
            "Features from new_data index 878251 added to data index 94.\n",
            "Features from new_data index 719077 added to data index 95.\n",
            "Features from new_data index 557703 added to data index 96.\n",
            "Features from new_data index 837921 added to data index 97.\n",
            "Features from new_data index 537711 added to data index 98.\n",
            "Features from new_data index 764069 added to data index 99.\n",
            "Features from new_data index 883968 added to data index 100.\n",
            "Features from new_data index 431601 added to data index 101.\n",
            "Features from new_data index 817807 added to data index 102.\n",
            "Features from new_data index 476756 added to data index 103.\n",
            "Features from new_data index 649486 added to data index 104.\n",
            "Features from new_data index 158961 added to data index 105.\n",
            "Features from new_data index 722753 added to data index 106.\n",
            "Features from new_data index 718671 added to data index 107.\n",
            "Features from new_data index 427701 added to data index 108.\n",
            "Features from new_data index 709994 added to data index 109.\n",
            "Features from new_data index 690334 added to data index 110.\n",
            "Features from new_data index 717674 added to data index 111.\n",
            "Features from new_data index 68465 added to data index 112.\n",
            "Features from new_data index 795299 added to data index 113.\n",
            "Features from new_data index 38492 added to data index 114.\n",
            "Features from new_data index 683747 added to data index 115.\n",
            "Features from new_data index 37001 added to data index 116.\n",
            "Features from new_data index 707826 added to data index 117.\n",
            "Features from new_data index 766210 added to data index 118.\n",
            "Features from new_data index 661060 added to data index 119.\n",
            "Features from new_data index 419909 added to data index 120.\n",
            "Features from new_data index 865817 added to data index 121.\n",
            "Features from new_data index 831239 added to data index 122.\n",
            "Features from new_data index 714274 added to data index 123.\n",
            "Features from new_data index 895322 added to data index 124.\n",
            "Features from new_data index 49900 added to data index 125.\n",
            "Features from new_data index 756139 added to data index 126.\n",
            "Features from new_data index 762878 added to data index 127.\n",
            "Features from new_data index 829618 added to data index 128.\n",
            "Features from new_data index 152900 added to data index 129.\n",
            "Features from new_data index 63016 added to data index 130.\n",
            "Features from new_data index 663261 added to data index 131.\n",
            "Features from new_data index 664750 added to data index 132.\n",
            "Features from new_data index 702298 added to data index 133.\n",
            "Features from new_data index 658410 added to data index 134.\n",
            "Features from new_data index 289097 added to data index 135.\n",
            "Features from new_data index 51133 added to data index 136.\n",
            "Features from new_data index 702534 added to data index 137.\n",
            "Features from new_data index 922094 added to data index 138.\n",
            "Features from new_data index 728555 added to data index 139.\n",
            "Features from new_data index 742813 added to data index 140.\n",
            "Features from new_data index 76856 added to data index 141.\n",
            "Features from new_data index 26795 added to data index 142.\n",
            "Features from new_data index 895270 added to data index 143.\n",
            "Features from new_data index 691656 added to data index 144.\n",
            "Features from new_data index 914997 added to data index 145.\n",
            "Features from new_data index 481056 added to data index 146.\n",
            "Features from new_data index 656583 added to data index 147.\n",
            "Features from new_data index 60077 added to data index 148.\n",
            "Features from new_data index 699553 added to data index 149.\n",
            "Features from new_data index 893935 added to data index 150.\n",
            "Features from new_data index 572197 added to data index 151.\n",
            "Features from new_data index 656504 added to data index 152.\n",
            "Features from new_data index 734905 added to data index 153.\n",
            "Features from new_data index 104416 added to data index 154.\n",
            "Features from new_data index 778807 added to data index 155.\n",
            "Features from new_data index 105511 added to data index 156.\n",
            "Features from new_data index 668061 added to data index 157.\n",
            "Features from new_data index 58995 added to data index 158.\n",
            "Features from new_data index 557721 added to data index 159.\n",
            "Features from new_data index 252401 added to data index 160.\n",
            "Features from new_data index 153229 added to data index 161.\n",
            "Features from new_data index 58672 added to data index 162.\n",
            "Features from new_data index 427025 added to data index 163.\n",
            "Features from new_data index 83361 added to data index 164.\n",
            "Features from new_data index 916572 added to data index 165.\n",
            "Features from new_data index 70626 added to data index 166.\n",
            "Features from new_data index 121414 added to data index 167.\n",
            "Features from new_data index 487049 added to data index 168.\n",
            "Features from new_data index 670365 added to data index 169.\n",
            "Features from new_data index 556947 added to data index 170.\n",
            "Features from new_data index 426308 added to data index 171.\n",
            "Features from new_data index 737579 added to data index 172.\n",
            "Features from new_data index 717801 added to data index 173.\n",
            "Features from new_data index 768951 added to data index 174.\n",
            "Features from new_data index 241826 added to data index 175.\n",
            "Features from new_data index 731788 added to data index 176.\n",
            "Features from new_data index 767634 added to data index 177.\n",
            "Features from new_data index 85539 added to data index 178.\n",
            "Features from new_data index 677636 added to data index 179.\n",
            "Features from new_data index 90997 added to data index 180.\n",
            "Features from new_data index 701952 added to data index 181.\n",
            "Features from new_data index 870528 added to data index 182.\n",
            "Features from new_data index 96078 added to data index 183.\n",
            "Features from new_data index 413786 added to data index 184.\n",
            "Features from new_data index 920060 added to data index 185.\n",
            "Features from new_data index 242136 added to data index 186.\n",
            "Features from new_data index 417230 added to data index 187.\n"
          ]
        }
      ]
    },
    {
      "cell_type": "code",
      "source": [
        "data.to_csv('AltStuff/modified_data.csv', index=False)\n"
      ],
      "metadata": {
        "id": "7-FQyOWXfU4u"
      },
      "execution_count": 92,
      "outputs": []
    },
    {
      "cell_type": "code",
      "source": [
        "print(new_data.columns)\n"
      ],
      "metadata": {
        "colab": {
          "base_uri": "https://localhost:8080/"
        },
        "id": "WF96_FDDDrKp",
        "outputId": "43da3c16-b0ef-457d-a454-5f64dc09d92b"
      },
      "execution_count": 189,
      "outputs": [
        {
          "output_type": "stream",
          "name": "stdout",
          "text": [
            "Index(['BVP', 'EDA', 'TEMP', 'AccX', 'AccY', 'AccZ', 'HR', 'Delta', 'Theta',\n",
            "       'Alpha1', 'Alpha2', 'Beta1', 'Beta2', 'Gamma1', 'Gamma2', 'Attention',\n",
            "       'Meditation', 'class'],\n",
            "      dtype='object')\n"
          ]
        }
      ]
    },
    {
      "cell_type": "code",
      "source": [
        "expected_columns = ['BVP', 'EDA', 'TEMP', 'AccX', 'AccY', 'AccZ',\n",
        "                    'Delta', 'Theta', 'Alpha1', 'Alpha2',\n",
        "                    'Beta1', 'Beta2', 'Gamma1', 'Gamma2',\n",
        "                    'Attention', 'Meditation', 'class']\n",
        "for col in expected_columns:\n",
        "    if col in data.columns:\n",
        "        print(f\"Column {col} successfully added.\")\n",
        "    else:\n",
        "        print(f\"Column {col} missing.\")"
      ],
      "metadata": {
        "colab": {
          "base_uri": "https://localhost:8080/"
        },
        "id": "KNyUWcA5NVqA",
        "outputId": "86ed778e-2600-4e3c-b4f1-463b571c7875"
      },
      "execution_count": 190,
      "outputs": [
        {
          "output_type": "stream",
          "name": "stdout",
          "text": [
            "Column BVP successfully added.\n",
            "Column EDA successfully added.\n",
            "Column TEMP successfully added.\n",
            "Column AccX successfully added.\n",
            "Column AccY successfully added.\n",
            "Column AccZ successfully added.\n",
            "Column Delta successfully added.\n",
            "Column Theta successfully added.\n",
            "Column Alpha1 successfully added.\n",
            "Column Alpha2 successfully added.\n",
            "Column Beta1 successfully added.\n",
            "Column Beta2 successfully added.\n",
            "Column Gamma1 successfully added.\n",
            "Column Gamma2 successfully added.\n",
            "Column Attention successfully added.\n",
            "Column Meditation successfully added.\n",
            "Column class successfully added.\n"
          ]
        }
      ]
    },
    {
      "cell_type": "code",
      "source": [
        "# Define a function to check for hypertension or diabetes\n",
        "def check_illness(row, illness_list):\n",
        "    illnesses = row[['past_illness_i', 'past_illness_ii', 'past_illness_iii']].astype(str).tolist()\n",
        "    return any(illness in illnesses for illness in illness_list)\n",
        "\n",
        "# Create binary indicators for hypertension and diabetes\n",
        "hypertension_list = ['hypertension', 'high blood pressure', 'HBP']\n",
        "diabetes_list = ['diabetes', 'high blood sugar', 'HBS']\n",
        "data['hypertension'] = data.apply(lambda row: check_illness(row, hypertension_list), axis=1).astype(int)\n",
        "data['diabetes'] = data.apply(lambda row: check_illness(row, diabetes_list), axis=1).astype(int)\n",
        "\n",
        "# Prepare the target variable based on Lake Louise Score (LLS)\n",
        "data['AMS'] = np.where(data['lls_score'] >= 3, 1, 0)\n",
        "\n",
        "# Define additional features\n",
        "additional_features = ['ascent_day', 'smoking', 'sym_headache', 'sym_gi', 'sym_fatigue', 'sym_dizziness',\n",
        "                       'alt_gain_from_altitude', 'alt_gain_to_altitude', 'temp']\n",
        "\n",
        "# Define selected features\n",
        "selected_features = [\n",
        "    'age', 'gender', 'permanent_altitude', 'bp_systolic', 'bp_diastolic',\n",
        "    'spo2', 'pulse', 'hypertension', 'diabetes'\n",
        "] + additional_features + ['BVP', 'EDA',\n",
        "                                                  'AccX', 'AccY', 'AccZ']\n",
        "\n",
        "# ['BVP', 'EDA', 'TEMP',\n",
        "#                                                   'AccX', 'AccY', 'AccZ',  # Add more features\n",
        "#                                                   'Delta', 'Theta', 'Alpha1', 'Alpha2',\n",
        "#                                                   'Beta1', 'Beta2', 'Gamma1', 'Gamma2',\n",
        "#                                                   'Attention', 'Meditation', 'class']\n",
        "\n",
        "# Extract selected features\n",
        "X = data[selected_features]\n",
        "y = data['AMS']\n",
        "\n",
        "# Identifying categorical and numerical columns\n",
        "categorical_cols = X.select_dtypes(include=['object', 'category']).columns\n",
        "numerical_cols = X.select_dtypes(include=['int64', 'float64']).columns\n",
        "\n",
        "# Preprocessing for numerical data\n",
        "numerical_transformer = Pipeline(steps=[\n",
        "    ('imputer', SimpleImputer(strategy='mean')),\n",
        "    ('scaler', StandardScaler())\n",
        "])\n",
        "\n",
        "# Preprocessing for categorical data\n",
        "categorical_transformer = Pipeline(steps=[\n",
        "    ('imputer', SimpleImputer(strategy='most_frequent')),\n",
        "    ('onehot', OneHotEncoder(handle_unknown='ignore'))\n",
        "])\n",
        "\n",
        "# Bundle preprocessing for numerical and categorical data\n",
        "preprocessor = ColumnTransformer(\n",
        "    transformers=[\n",
        "        ('num', numerical_transformer, numerical_cols),\n",
        "        ('cat', categorical_transformer, categorical_cols)\n",
        "    ])\n",
        "\n",
        "\n",
        "knn_classifier = KNeighborsClassifier()\n",
        "param_grid_classifier = {\n",
        "    'n_neighbors': [3, 5, 7, 11, 15, 21],\n",
        "    'weights': ['uniform', 'distance'],\n",
        "    'metric': ['euclidean', 'manhattan', 'chebyshev', 'minkowski'],\n",
        "}\n",
        "\n",
        "\n",
        "grid_search_classifier = GridSearchCV(knn_classifier, param_grid_classifier, cv=7, scoring='accuracy')\n",
        "pipeline_classifier = Pipeline(steps=[('preprocessor', preprocessor),\n",
        "                                      ('grid_search', grid_search_classifier)])\n",
        "\n",
        "# Split the data into training and test sets\n",
        "X_train, X_test, y_train_class, y_test = train_test_split(X, y, test_size=0.3, random_state=0)\n",
        "\n",
        "# Fit the model\n",
        "pipeline_classifier.fit(X_train, y_train_class)\n",
        "\n",
        "# Make predictions and evaluate the model\n",
        "preds = pipeline_classifier.predict(X_test)\n",
        "score = accuracy_score(y_test, preds)\n",
        "report = classification_report(y_test, preds)\n",
        "\n",
        "print(\"Accuracy:\", score)\n",
        "print(\"Classification Report:\\n\", report)\n"
      ],
      "metadata": {
        "colab": {
          "base_uri": "https://localhost:8080/"
        },
        "id": "5ZKJa5x6pPnE",
        "outputId": "91584851-9f60-45ad-bf93-4e5a8d32d255"
      },
      "execution_count": 198,
      "outputs": [
        {
          "output_type": "stream",
          "name": "stdout",
          "text": [
            "Accuracy: 0.9122807017543859\n",
            "Classification Report:\n",
            "               precision    recall  f1-score   support\n",
            "\n",
            "           0       0.85      1.00      0.92        29\n",
            "           1       1.00      0.82      0.90        28\n",
            "\n",
            "    accuracy                           0.91        57\n",
            "   macro avg       0.93      0.91      0.91        57\n",
            "weighted avg       0.93      0.91      0.91        57\n",
            "\n"
          ]
        }
      ]
    },
    {
      "cell_type": "code",
      "source": [
        "from sklearn.metrics import mean_squared_error, r2_score\n",
        "\n",
        "\n",
        "# Define a function to check for hypertension or diabetes\n",
        "def check_illness(row, illness_list):\n",
        "    illnesses = row[['past_illness_i', 'past_illness_ii', 'past_illness_iii']].astype(str).tolist()\n",
        "    return any(illness in illnesses for illness in illness_list)\n",
        "\n",
        "# Create binary indicators for hypertension and diabetes\n",
        "hypertension_list = ['hypertension', 'high blood pressure', 'HBP']\n",
        "diabetes_list = ['diabetes', 'high blood sugar', 'HBS']\n",
        "data['hypertension'] = data.apply(lambda row: check_illness(row, hypertension_list), axis=1).astype(int)\n",
        "data['diabetes'] = data.apply(lambda row: check_illness(row, diabetes_list), axis=1).astype(int)\n",
        "\n",
        "\n",
        "# Define additional features\n",
        "additional_features = ['ascent_day', 'smoking', 'sym_headache', 'sym_gi', 'sym_fatigue', 'sym_dizziness',\n",
        "                       'alt_gain_from_altitude', 'alt_gain_to_altitude', 'temp']\n",
        "\n",
        "# Define selected features\n",
        "selected_features = [\n",
        "    'age', 'gender', 'permanent_altitude', 'bp_systolic', 'bp_diastolic',\n",
        "    'spo2', 'pulse', 'hypertension', 'diabetes'\n",
        "] + additional_features + ['BVP', 'EDA', 'Theta', 'Alpha1', 'Beta1']\n",
        "\n",
        "# ['BVP', 'EDA', 'TEMP',\n",
        "#                                                   'AccX', 'AccY', 'AccZ',  # Add more features\n",
        "#                                                   'Delta', 'Theta', 'Alpha1', 'Alpha2',\n",
        "#                                                   'Beta1', 'Beta2', 'Gamma1', 'Gamma2',\n",
        "#                                                   'Attention', 'Meditation', 'class']\n",
        "\n",
        "# Extract selected features\n",
        "X = data[selected_features]\n",
        "# Replace 'AMS' with 'lls_score' as the target variable\n",
        "y = data['lls_score'].fillna(data['lls_score'].mean())  # Filling missing values with the mean\n",
        "\n",
        "\n",
        "# Identifying categorical and numerical columns\n",
        "categorical_cols = X.select_dtypes(include=['object', 'category']).columns\n",
        "numerical_cols = X.select_dtypes(include=['int64', 'float64']).columns\n",
        "\n",
        "# Preprocessing for numerical data\n",
        "numerical_transformer = Pipeline(steps=[\n",
        "    ('imputer', SimpleImputer(strategy='mean')),\n",
        "    ('scaler', StandardScaler())\n",
        "])\n",
        "\n",
        "# Preprocessing for categorical data\n",
        "categorical_transformer = Pipeline(steps=[\n",
        "    ('imputer', SimpleImputer(strategy='most_frequent')),\n",
        "    ('onehot', OneHotEncoder(handle_unknown='ignore'))\n",
        "])\n",
        "\n",
        "# Bundle preprocessing for numerical and categorical data\n",
        "preprocessor = ColumnTransformer(\n",
        "    transformers=[\n",
        "        ('num', numerical_transformer, numerical_cols),\n",
        "        ('cat', categorical_transformer, categorical_cols)\n",
        "    ])\n",
        "\n",
        "\n",
        "param_grid_regressor_expanded = {\n",
        "    'n_neighbors': [3, 5, 7, 11, 15, 21],\n",
        "    'weights': ['uniform', 'distance'],\n",
        "    'metric': ['euclidean', 'manhattan', 'chebyshev', 'minkowski'],\n",
        "}\n",
        "knn_regressor = KNeighborsRegressor()\n",
        "grid_search_regressor_expanded = GridSearchCV(knn_regressor, param_grid_regressor_expanded, cv=10, scoring='neg_mean_squared_error', n_jobs=-1)\n",
        "\n",
        "pipeline_regressor = Pipeline(steps=[('preprocessor', preprocessor),\n",
        "                                     ('grid_search', grid_search_regressor_expanded)])\n",
        "\n",
        "# Split the data into training and test sets for regression\n",
        "X_train_reg, X_test_reg, y_train_reg, y_test_reg = train_test_split(X, y, test_size=0.3, random_state=0)\n",
        "\n",
        "# Fit the regression model\n",
        "pipeline_regressor.fit(X_train_reg, y_train_reg)\n",
        "\n",
        "# Make predictions and evaluate the regression model\n",
        "preds_reg = pipeline_regressor.predict(X_test_reg)\n",
        "mse = mean_squared_error(y_test_reg, preds_reg)\n",
        "r2 = r2_score(y_test_reg, preds_reg)\n",
        "\n",
        "print(\"Best Parameters:\", pipeline_regressor.named_steps['grid_search'].best_params_)\n",
        "print(\"Mean Squared Error:\", mse)\n",
        "print(\"R-squared:\", r2)\n",
        "\n"
      ],
      "metadata": {
        "colab": {
          "base_uri": "https://localhost:8080/"
        },
        "id": "7ADJUtLs8q5j",
        "outputId": "01dd8a49-215b-47c6-8ebc-059a20c00ab3"
      },
      "execution_count": 197,
      "outputs": [
        {
          "output_type": "stream",
          "name": "stdout",
          "text": [
            "Best Parameters: {'metric': 'manhattan', 'n_neighbors': 3, 'weights': 'distance'}\n",
            "Mean Squared Error: 0.35879613793962895\n",
            "R-squared: 0.8189132393456646\n"
          ]
        }
      ]
    },
    {
      "cell_type": "code",
      "source": [
        "import pickle\n",
        "\n",
        "# Assuming 'pipeline' is your trained model\n",
        "with open('knn_model.pkl', 'wb') as file:\n",
        "    pickle.dump(pipeline_regressor, file)"
      ],
      "metadata": {
        "id": "IN5ncgxyDQJT"
      },
      "execution_count": 202,
      "outputs": []
    },
    {
      "cell_type": "code",
      "source": [
        "# For ROC Curve, you need probabilities of the positive class\n",
        "y_pred_probs = pipeline_classifier.predict_proba(X_test)[:, 1]\n",
        "\n",
        "# ROC Curve and AUC Score\n",
        "plt.figure(figsize=(20, 8))\n",
        "fpr, tpr, _ = roc_curve(y_test, y_pred_probs)\n",
        "auc = roc_auc_score(y_test, y_pred_probs)\n",
        "plt.plot(fpr, tpr, label=\"KNN Model, auc=\" + str(auc), lw=2)\n",
        "plt.plot([0, 1], [0, 1], color=\"orange\", lw=2, linestyle=\"--\")\n",
        "plt.legend(loc=4)\n",
        "plt.title('ROC Curve')\n",
        "plt.xlabel('False Positive Rate')\n",
        "plt.ylabel('True Positive Rate')\n",
        "plt.show()"
      ],
      "metadata": {
        "colab": {
          "base_uri": "https://localhost:8080/",
          "height": 305
        },
        "id": "MdDoMmxuCmIf",
        "outputId": "c4cbea5e-2a42-4200-ccd2-ec2505417a67"
      },
      "execution_count": 71,
      "outputs": [
        {
          "output_type": "display_data",
          "data": {
            "text/plain": [
              "<Figure size 2000x800 with 1 Axes>"
            ],
            "image/png": "[encoded data removed]"
          },
          "metadata": {}
        }
      ]
    },
    {
      "cell_type": "code",
      "source": [
        "# Ensure your KNN model can return probabilities\n",
        "# Note: Standard KNeighborsClassifier supports predict_proba method\n",
        "\n",
        "# Predict probabilities for the positive class\n",
        "y_pred_proba = pipeline_classifier.predict_proba(X_test)[:, 1]\n",
        "\n",
        "# Now generate the Precision-Recall Curve\n",
        "from sklearn.metrics import precision_recall_curve, auc\n",
        "\n",
        "precision, recall, _ = precision_recall_curve(y_test, y_pred_proba)\n",
        "auc_score = auc(recall, precision)\n",
        "\n",
        "plt.figure(figsize=(10, 6))\n",
        "plt.plot(recall, precision, label=\"AUC=\"+str(auc_score), lw=2)\n",
        "plt.title('Precision-Recall Curve')\n",
        "plt.xlabel('Recall')\n",
        "plt.ylabel('Precision')\n",
        "plt.legend()\n",
        "plt.show()\n"
      ],
      "metadata": {
        "colab": {
          "base_uri": "https://localhost:8080/",
          "height": 448
        },
        "id": "4SsKgv8bC0rb",
        "outputId": "b9f1ea38-e64b-4cb8-fb00-920c547a113e"
      },
      "execution_count": 72,
      "outputs": [
        {
          "output_type": "display_data",
          "data": {
            "text/plain": [
              "<Figure size 1000x600 with 1 Axes>"
            ],
            "image/png": "[encoded data removed]"
          },
          "metadata": {}
        }
      ]
    },
    {
      "cell_type": "code",
      "source": [
        "# Confusion Matrix\n",
        "y_pred = pipeline_classifier.predict(X_test)\n",
        "cm = confusion_matrix(y_test, y_pred)\n",
        "\n",
        "sns.heatmap(cm, cmap='viridis', annot=True, fmt='g',\n",
        "            xticklabels=['Negative', 'Positive'],\n",
        "            yticklabels=['Negative', 'Positive'])\n",
        "plt.xlabel('Predicted Class')\n",
        "plt.ylabel('Actual Class')\n",
        "plt.title('Confusion Matrix')\n",
        "plt.show()"
      ],
      "metadata": {
        "colab": {
          "base_uri": "https://localhost:8080/",
          "height": 472
        },
        "id": "bRyew_N9CmOb",
        "outputId": "2e06a323-6c2b-459e-f045-649eab060bb1"
      },
      "execution_count": 73,
      "outputs": [
        {
          "output_type": "display_data",
          "data": {
            "text/plain": [
              "<Figure size 640x480 with 2 Axes>"
            ],
            "image/png": "[encoded data removed]"
          },
          "metadata": {}
        }
      ]
    },
    {
      "cell_type": "code",
      "source": [
        "import matplotlib.pyplot as plt\n",
        "\n",
        "neighbor_range = range(1, 20)  # or any range of n_neighbors you're interested in\n",
        "train_scores, test_scores = list(), list()\n",
        "\n",
        "# Assuming you have a preprocessor set up as before\n",
        "for n in neighbor_range:\n",
        "    model = Pipeline(steps=[('preprocessor', preprocessor),\n",
        "                            ('knn', KNeighborsClassifier(n_neighbors=n))])\n",
        "    model.fit(X_train, y_train_class)\n",
        "\n",
        "    train_scores.append(model.score(X_train, y_train_class))\n",
        "    test_scores.append(model.score(X_test, y_test))\n",
        "\n",
        "\n",
        "plt.figure(figsize=(10, 6))\n",
        "plt.plot(neighbor_range, train_scores, label='Train', marker='o')\n",
        "plt.plot(neighbor_range, test_scores, label='Test', marker='o')\n",
        "plt.title('KNN Accuracy vs. Number of Neighbors')\n",
        "plt.xlabel('Number of Neighbors')\n",
        "plt.ylabel('Accuracy')\n",
        "plt.legend()\n",
        "plt.show()\n"
      ],
      "metadata": {
        "colab": {
          "base_uri": "https://localhost:8080/",
          "height": 448
        },
        "id": "h0UbKBFcCuHK",
        "outputId": "203610c5-5235-4915-a361-19c4013c9a96"
      },
      "execution_count": 74,
      "outputs": [
        {
          "output_type": "display_data",
          "data": {
            "text/plain": [
              "<Figure size 1000x600 with 1 Axes>"
            ],
            "image/png": "[encoded data removed]"
          },
          "metadata": {}
        }
      ]
    },
    {
      "cell_type": "code",
      "source": [
        "# Make predictions and evaluate the model\n",
        "preds = pipeline_classifier.predict(X_test)\n",
        "score = accuracy_score(y_test, preds)\n",
        "report = classification_report(y_test, preds)\n",
        "\n",
        "print(\"Accuracy:\", score)\n",
        "print(\"Classification Report:\\n\", report)\n"
      ],
      "metadata": {
        "colab": {
          "base_uri": "https://localhost:8080/"
        },
        "id": "JIsOQqXTqKN4",
        "outputId": "2826eef7-cff6-4ad4-fc81-fa383fb42c90"
      },
      "execution_count": 75,
      "outputs": [
        {
          "output_type": "stream",
          "name": "stdout",
          "text": [
            "Accuracy: 0.9473684210526315\n",
            "Classification Report:\n",
            "               precision    recall  f1-score   support\n",
            "\n",
            "           0       0.91      1.00      0.95        29\n",
            "           1       1.00      0.89      0.94        28\n",
            "\n",
            "    accuracy                           0.95        57\n",
            "   macro avg       0.95      0.95      0.95        57\n",
            "weighted avg       0.95      0.95      0.95        57\n",
            "\n"
          ]
        }
      ]
    },
    {
      "cell_type": "code",
      "source": [
        "import pickle\n",
        "\n",
        "# Assuming 'pipeline' is your trained model\n",
        "with open('knn_model.pkl', 'wb') as file:\n",
        "    pickle.dump(pipeline_classifier, file)"
      ],
      "metadata": {
        "id": "wQjYjHw7EUr-"
      },
      "execution_count": 66,
      "outputs": []
    },
    {
      "cell_type": "code",
      "source": [
        "import pandas as pd\n",
        "\n",
        "# Sample input data (replace with actual values later)\n",
        "sample_data = {\n",
        "    'age': [50],  # Age of the individual\n",
        "    'gender': ['M'],  # Gender: 'M' for male, 'F' for female\n",
        "    'temp': [97],  # Temperature in degrees Celsius (normal body temperature)\n",
        "    'bp_systolic': [90],  # Systolic blood pressure (normal range)\n",
        "    'bp_diastolic': [70],  # Diastolic blood pressure (normal range)\n",
        "    'spo2': [98],  # Blood oxygen saturation in percentage (normal range)\n",
        "    'pulse': [90],  # Pulse rate in beats per minute (normal range)\n",
        "    'hypertension': [1],  # 0 if the individual does not have hypertension\n",
        "    'diabetes': [1],  # 0 if the individual does not have diabetes\n",
        "    'permanent_altitude': [1000],  # Altitude of permanent residence in meters (example)\n",
        "    'alt_gain_from_altitude': [1],  # Altitude gain from starting point (example)\n",
        "    'alt_gain_to_altitude': [100],  # Altitude gain to end point (example)\n",
        "    'ascent_day': [7],  # Number of days spent ascending to current altitude\n",
        "    'smoking': [0],  # 0 if the individual does not smoke\n",
        "    'sym_headache': [1],  # 0 if not experiencing headache\n",
        "    'sym_gi': [0],  # 0 if not experiencing gastrointestinal distress\n",
        "    'sym_fatigue': [0],  # 0 if not experiencing fatigue\n",
        "    'sym_dizziness': [0],  # 0 if not experiencing dizziness\n",
        "    'BVP': [-0.25],  # Blood Volume Pulse (example value)\n",
        "    'EDA': [-0.96],  # Electrodermal Activity (example value)\n",
        "    'AccX': [-0.53],  # Accelerometer X-axis (example value)\n",
        "    'AccY': [-0.14],  # Accelerometer Y-axis (example value)\n",
        "    'AccZ': [-0.14],  # Accelerometer Z-axis (example value)\n",
        "}\n",
        "\n",
        "# Convert sample data to DataFrame\n",
        "sample_input_df = pd.DataFrame(sample_data)\n",
        "\n",
        "# Assuming your preprocessor and model pipeline (named 'pipeline_classifier') are already defined and trained\n",
        "\n",
        "# Preprocess the sample input\n",
        "processed_sample_input = pipeline_classifier.named_steps['preprocessor'].transform(sample_input_df)\n",
        "\n",
        "# Get the probability of AMS risk\n",
        "predicted_prob = pipeline_classifier.named_steps['grid_search'].best_estimator_.predict_proba(processed_sample_input)\n",
        "\n",
        "# Output the probability for the positive class (assuming '1' represents high risk)\n",
        "ams_risk_probability = predicted_prob[0][1] * 100  # Multiply by 100 to get a percentage\n",
        "\n",
        "# Adjust the LLS score scaling\n",
        "min_prob_for_scaling = 20  # 20% probability corresponds to LLS score of 0\n",
        "max_lls_score = 12\n",
        "\n",
        "if ams_risk_probability <= min_prob_for_scaling:\n",
        "    scaled_lls_score = 0\n",
        "else:\n",
        "    # Scale the probability above 20% to the LLS score range (0 to 12)\n",
        "    scaled_lls_score = round((ams_risk_probability) / (100) * max_lls_score)\n",
        "\n",
        "print(\"Probability of high AMS risk:\", ams_risk_probability, \"%\")\n",
        "print(\"Approximated LLS score:\", scaled_lls_score)"
      ],
      "metadata": {
        "colab": {
          "base_uri": "https://localhost:8080/"
        },
        "id": "iyXLbsbThAST",
        "outputId": "f153466b-2027-4835-803d-69f6119ff9bf"
      },
      "execution_count": 172,
      "outputs": [
        {
          "output_type": "stream",
          "name": "stdout",
          "text": [
            "Probability of high AMS risk: 33.230919461622314 %\n",
            "Approximated LLS score: 4\n"
          ]
        }
      ]
    },
    {
      "cell_type": "code",
      "source": [
        "import pandas as pd\n",
        "\n",
        "# Sample input data (replace with actual values later)\n",
        "sample_data = {\n",
        "    'age': [27],  # Age of the individual\n",
        "    'gender': ['F'],  # Gender: 'M' for male, 'F' for female\n",
        "    'temp': [97],  # Temperature in degrees Celsius (normal body temperature)\n",
        "    'bp_systolic': [100],  # Systolic blood pressure (normal range)\n",
        "    'bp_diastolic': [110],  # Diastolic blood pressure (normal range)\n",
        "    'spo2': [98],  # Blood oxygen saturation in percentage (normal range)\n",
        "    'pulse': [90],  # Pulse rate in beats per minute (normal range)\n",
        "    'hypertension': [1],  # 0 if the individual does not have hypertension\n",
        "    'diabetes': [1],  # 0 if the individual does not have diabetes\n",
        "    'permanent_altitude': [6000],  # Altitude of permanent residence in meters (example)\n",
        "    'alt_gain_from_altitude': [800],  # Altitude gain from starting point (example)\n",
        "    'alt_gain_to_altitude': [3800],  # Altitude gain to end point (example)\n",
        "    'ascent_day': [1],  # Number of days spent ascending to current altitude\n",
        "    'smoking': [1],  # 0 if the individual does not smoke\n",
        "    'sym_headache': [2],  # 0 if not experiencing headache\n",
        "    'sym_gi': [0],  # 0 if not experiencing gastrointestinal distress\n",
        "    'sym_fatigue': [0],  # 0 if not experiencing fatigue\n",
        "    'sym_dizziness': [0],  # 0 if not experiencing dizziness\n",
        "    'BVP': [-0.15],  # Blood Volume Pulse (example value)\n",
        "    'EDA': [0.02],  # Electrodermal Activity (example value)\n",
        "    'Theta': [0.02],\n",
        "    'Alpha1': [0.01],\n",
        "    'Beta1': [0.02],\n",
        "}\n",
        "\n",
        "# Convert sample data to DataFrame\n",
        "sample_input_df = pd.DataFrame(sample_data)\n",
        "\n",
        "# Assuming your preprocessor and model pipeline (named 'pipeline_regressor') are already defined and trained\n",
        "\n",
        "# Preprocess the sample input\n",
        "processed_sample_input = pipeline_regressor.named_steps['preprocessor'].transform(sample_input_df)\n",
        "\n",
        "# Predict the LLS score using the regression model\n",
        "predicted_lls_score = pipeline_regressor.named_steps['grid_search'].best_estimator_.predict(processed_sample_input)\n",
        "\n",
        "# Output the predicted LLS score\n",
        "print(\"Predicted LLS score:\", predicted_lls_score[0])\n"
      ],
      "metadata": {
        "colab": {
          "base_uri": "https://localhost:8080/"
        },
        "id": "6bT8Qw2L9XuF",
        "outputId": "a2f9126c-92c5-4710-ad23-7d62f4924552"
      },
      "execution_count": 200,
      "outputs": [
        {
          "output_type": "stream",
          "name": "stdout",
          "text": [
            "Predicted LLS score: 2.6909801522867602\n"
          ]
        }
      ]
    }
  ]
}